{
  "nbformat": 4,
  "nbformat_minor": 0,
  "metadata": {
    "colab": {
      "provenance": [],
      "collapsed_sections": [
        "fpcp4CiYPcfy",
        "zScVq_BuP9Li",
        "okB4KTo-PiLB",
        "PxcoDdrBPnNi",
        "Qw1g2WnZuesu",
        "bJwlMl5APrnr",
        "5x8TpW82QLaS",
        "Os1Aw4j3QZDi",
        "GCRyzBW5flSl"
      ]
    },
    "kernelspec": {
      "name": "python3",
      "display_name": "Python 3"
    },
    "language_info": {
      "name": "python"
    }
  },
  "cells": [
    {
      "cell_type": "markdown",
      "source": [
        "# Imports"
      ],
      "metadata": {
        "id": "fpcp4CiYPcfy"
      }
    },
    {
      "cell_type": "code",
      "source": [
        "import numpy as np\n",
        "import matplotlib.pyplot as plt\n",
        "import heapq"
      ],
      "metadata": {
        "id": "bQlKEyeEPf4b"
      },
      "execution_count": 1,
      "outputs": []
    },
    {
      "cell_type": "markdown",
      "source": [
        "# Grid Visualization Class"
      ],
      "metadata": {
        "id": "zScVq_BuP9Li"
      }
    },
    {
      "cell_type": "code",
      "source": [
        "# Visualization Function plots the grid and the found path.\n",
        "def visualize_grid_and_path(grid, path, battery_levels):\n",
        "    grid_array = np.array(grid)  # Convert grid to numpy array for easy plotting.\n",
        "    fig, ax = plt.subplots()\n",
        "\n",
        "    #If path is found then show it in grid\n",
        "    if path:\n",
        "      ax.imshow(grid_array, cmap='summer', alpha=0.8)  # Grid background.\n",
        "      start = path[0]\n",
        "      goal = path[-1]\n",
        "      ax.plot(start[1], start[0], 'ys', markersize=10)  # Start position in blue.\n",
        "      ax.plot(goal[1], goal[0], 'rs', markersize=10)  # Goal position in green.\n",
        "      xs, ys = zip(*path)  # Extract X and Y coordinates of the path.\n",
        "      ax.plot(ys, xs, 'y-', linewidth=2)  # Plot the path in red.\n",
        "\n",
        "      # Plot battery levels\n",
        "    for state, level in battery_levels.items():\n",
        "        ax.text(state[1], state[0], f'{level}', ha='center', va='center', fontsize=8, color='white')\n",
        "\n",
        "    #if path in not found, show empty grid\n",
        "    else:\n",
        "      ax.imshow(grid_array, cmap='summer', alpha=0.8)\n",
        "\n",
        "    ax.set_xticks(np.arange(-.5, len(grid[0]), 1), minor=True)\n",
        "    ax.set_yticks(np.arange(-.5, len(grid), 1), minor=True)\n",
        "    ax.grid(which=\"minor\", color=\"orange\", linestyle='-', linewidth=1)\n",
        "    ax.tick_params(which=\"minor\", size=0)\n",
        "    ax.tick_params(which=\"major\", bottom=False, left=False, labelbottom=False, labelleft=False)\n",
        "    plt.show()"
      ],
      "metadata": {
        "id": "8F81OhVWQAJi"
      },
      "execution_count": 2,
      "outputs": []
    },
    {
      "cell_type": "markdown",
      "source": [
        "# Priority Class"
      ],
      "metadata": {
        "id": "okB4KTo-PiLB"
      }
    },
    {
      "cell_type": "code",
      "source": [
        "class PriorityQueue:\n",
        "    def __init__(self):\n",
        "        self.elements = []\n",
        "\n",
        "    def empty(self):\n",
        "        return len(self.elements) == 0\n",
        "\n",
        "    def put(self, item, priority):\n",
        "        heapq.heappush(self.elements, (priority, item))\n",
        "\n",
        "    def get(self):\n",
        "        return heapq.heappop(self.elements)[1]"
      ],
      "metadata": {
        "id": "v46_YAs8PlHC"
      },
      "execution_count": 3,
      "outputs": []
    },
    {
      "cell_type": "markdown",
      "source": [
        "# Node Class"
      ],
      "metadata": {
        "id": "PxcoDdrBPnNi"
      }
    },
    {
      "cell_type": "code",
      "source": [
        "class Node:\n",
        "    def __init__(self, state, parent=None, action=None, path_cost=0, battery_level = 100):\n",
        "        self.state = state\n",
        "        self.parent = parent\n",
        "        self.action = action\n",
        "        self.path_cost = path_cost\n",
        "        self.battery_level = battery_level\n",
        "\n",
        "    def __lt__(self, other):\n",
        "        return self.path_cost < other.path_cost"
      ],
      "metadata": {
        "id": "Lr0-vb2lPpUB"
      },
      "execution_count": 4,
      "outputs": []
    },
    {
      "cell_type": "markdown",
      "source": [
        "# Heuristic Method for A* Algorithm"
      ],
      "metadata": {
        "id": "Qw1g2WnZuesu"
      }
    },
    {
      "cell_type": "code",
      "source": [
        "def heuristic(a, b):\n",
        "    \"\"\"\n",
        "    Calculate the Manhattan distance between two points a and b.\n",
        "\n",
        "    Parameters:\n",
        "    - a: Tuple representing the x and y coordinates of point a (e.g., (x1, y1))\n",
        "    - b: Tuple representing the x and y coordinates of point b (e.g., (x2, y2))\n",
        "\n",
        "    Returns:\n",
        "    - The Manhattan distance between points a and b.\n",
        "    \"\"\"\n",
        "    (x1, y1) = a\n",
        "    (x2, y2) = b\n",
        "    return abs(x1 - x2) + abs(y1 - y2)\n"
      ],
      "metadata": {
        "id": "XAhg-JgsulTv"
      },
      "execution_count": 5,
      "outputs": []
    },
    {
      "cell_type": "markdown",
      "source": [
        "# Environment Class"
      ],
      "metadata": {
        "id": "bJwlMl5APrnr"
      }
    },
    {
      "cell_type": "code",
      "source": [
        "class Environment:\n",
        "    def __init__(self, grid, start, goal):\n",
        "        self.grid = grid\n",
        "        self.initial = start\n",
        "        self.goal = goal\n",
        "\n",
        "    def actions(self, state):\n",
        "        possible_actions = ['UP', 'DOWN', 'LEFT', 'RIGHT']\n",
        "        x, y = state\n",
        "\n",
        "        if x == 0 or self.grid[x - 1][y] == 1:\n",
        "            possible_actions.remove('UP')\n",
        "        if x == len(self.grid) - 1 or self.grid[x + 1][y] == 1:\n",
        "            possible_actions.remove('DOWN')\n",
        "        if y == 0 or self.grid[x][y - 1] == 1:\n",
        "            possible_actions.remove('LEFT')\n",
        "        if y == len(self.grid[0]) - 1 or self.grid[x][y + 1] == 1:\n",
        "            possible_actions.remove('RIGHT')\n",
        "\n",
        "        return possible_actions\n",
        "\n",
        "    def result(self, state, action):\n",
        "        x, y = state\n",
        "        if action == 'UP':\n",
        "            return (x - 1, y)\n",
        "        if action == 'DOWN':\n",
        "            return (x + 1, y)\n",
        "        if action == 'LEFT':\n",
        "            return (x, y - 1)\n",
        "        if action == 'RIGHT':\n",
        "            return (x, y + 1)\n",
        "\n",
        "    def is_goal(self, state):\n",
        "        return state == self.goal"
      ],
      "metadata": {
        "id": "HQIul8fmPt1B"
      },
      "execution_count": 6,
      "outputs": []
    },
    {
      "cell_type": "markdown",
      "source": [
        "# Agent Class"
      ],
      "metadata": {
        "id": "ZHko4Aq-Pya5"
      }
    },
    {
      "cell_type": "code",
      "source": [
        "class Agent:\n",
        "    def __init__(self, env):\n",
        "        self.env = env\n",
        "\n",
        "    def ucs(self):\n",
        "        frontier = PriorityQueue()\n",
        "        frontier.put(Node(self.env.initial, path_cost=0, battery_level=100), 0)\n",
        "        came_from = {self.env.initial: None}\n",
        "        cost_so_far = {self.env.initial: 0}\n",
        "        battery_levels = {self.env.initial: 100}\n",
        "        recharge_needed = 0\n",
        "\n",
        "        while not frontier.empty():\n",
        "            current_node = frontier.get()\n",
        "\n",
        "            if self.env.is_goal(current_node.state):\n",
        "                return self.reconstruct_path(came_from, current_node.state), battery_levels, recharge_needed\n",
        "\n",
        "            for action in self.env.actions(current_node.state):\n",
        "                new_state = self.env.result(current_node.state, action)\n",
        "                new_cost = cost_so_far[current_node.state] + 1\n",
        "                new_battery = current_node.battery_level - 10\n",
        "\n",
        "                if new_battery <= 0:\n",
        "                  new_battery = 100\n",
        "                  recharge_needed += 1\n",
        "\n",
        "                if new_state not in cost_so_far or new_cost < cost_so_far[new_state]:\n",
        "                    cost_so_far[new_state] = new_cost\n",
        "                    priority = new_cost\n",
        "                    frontier.put(Node(new_state, current_node, action, new_cost, new_battery), priority)\n",
        "                    came_from[new_state] = current_node.state\n",
        "                    battery_levels[new_state] = new_battery\n",
        "\n",
        "        return []\n",
        "\n",
        "    def a_star_search(self):\n",
        "        # The start node is created with a path cost of 0.\n",
        "        start_node = Node(self.env.initial, path_cost=0, battery_level=100)\n",
        "        frontier = PriorityQueue()\n",
        "        frontier.put(start_node, 0)  # Priority is f-cost, initially the heuristic cost from start to goal\n",
        "        came_from = {self.env.initial: None}  # Tracks the best path to a node\n",
        "        cost_so_far = {self.env.initial: 0}  # Tracks the g-cost (cost so far to reach a node)\n",
        "        battery_levels = {self.env.initial: 100}\n",
        "        recharge_needed = 0\n",
        "\n",
        "        while not frontier.empty():\n",
        "            current_node = frontier.get()\n",
        "\n",
        "            if self.env.is_goal(current_node.state):\n",
        "                return self.reconstruct_path(came_from, current_node.state), battery_levels, recharge_needed\n",
        "\n",
        "            for action in self.env.actions(current_node.state):\n",
        "                new_state = self.env.result(current_node.state, action)\n",
        "                new_cost = cost_so_far[current_node.state] + 1  # Assuming uniform cost for simplicity\n",
        "                new_battery = current_node.battery_level - 10\n",
        "\n",
        "                if new_battery <= 0:\n",
        "                  new_battery = 100\n",
        "                  recharge_needed += 1\n",
        "\n",
        "                if new_state not in cost_so_far or new_cost < cost_so_far[new_state]:\n",
        "                    cost_so_far[new_state] = new_cost\n",
        "                    priority = new_cost + heuristic(new_state, self.env.goal)  # f-cost = g-cost + h-cost\n",
        "                    frontier.put(Node(new_state, current_node, action, new_cost, new_battery), priority)\n",
        "                    came_from[new_state] = current_node.state\n",
        "                    battery_levels[new_state] = new_battery\n",
        "\n",
        "        return []\n",
        "\n",
        "\n",
        "    def reconstruct_path(self, came_from, current):\n",
        "        path = []\n",
        "        while current in came_from:\n",
        "            path.append(current)\n",
        "            current = came_from[current]\n",
        "        path.append(self.env.initial)\n",
        "        path.reverse()\n",
        "        return path"
      ],
      "metadata": {
        "id": "7OKgdJTnP1OR"
      },
      "execution_count": 29,
      "outputs": []
    },
    {
      "cell_type": "markdown",
      "source": [
        "# Generate Random Grid Class"
      ],
      "metadata": {
        "id": "5x8TpW82QLaS"
      }
    },
    {
      "cell_type": "code",
      "source": [
        "def generate_random_grid(size, obstacle_probability):\n",
        "    return np.random.choice([0, 1], size=(size, size), p=[1-obstacle_probability, obstacle_probability])"
      ],
      "metadata": {
        "id": "A6kYO2XKQOUK"
      },
      "execution_count": 8,
      "outputs": []
    },
    {
      "cell_type": "markdown",
      "source": [
        "# Setting Up Grid Size"
      ],
      "metadata": {
        "id": "Os1Aw4j3QZDi"
      }
    },
    {
      "cell_type": "code",
      "source": [
        "\n",
        "# Define the size of the grid and the probability of an obstacle in each cell\n",
        "grid_size = 10\n",
        "obstacle_probability = 0.2  # 20% chance of being an obstacle\n"
      ],
      "metadata": {
        "id": "DQ8jrWjPQ6wx"
      },
      "execution_count": 9,
      "outputs": []
    },
    {
      "cell_type": "markdown",
      "source": [
        "# Generating Random Grid"
      ],
      "metadata": {
        "id": "GCRyzBW5flSl"
      }
    },
    {
      "cell_type": "code",
      "source": [
        "# Generate a random grid\n",
        "grid = generate_random_grid(grid_size, obstacle_probability)\n",
        "\n",
        "# Define start and goal positions\n",
        "start = (0, 0)\n",
        "goal = (grid_size - 1, grid_size - 1)\n",
        "\n",
        "# Ensure start and goal are not obstacles\n",
        "grid[start] = 0\n",
        "grid[goal] = 0"
      ],
      "metadata": {
        "id": "tLD299N2fp68"
      },
      "execution_count": 15,
      "outputs": []
    },
    {
      "cell_type": "markdown",
      "source": [
        "# Simulation using UCS and A* Algorithm"
      ],
      "metadata": {
        "id": "1CWKW_D_Qxdr"
      }
    },
    {
      "cell_type": "markdown",
      "source": [
        "# Simulation using UCS"
      ],
      "metadata": {
        "id": "AVk6OpfoREXJ"
      }
    },
    {
      "cell_type": "code",
      "source": [
        "\n",
        "# Create the environment and agent\n",
        "environment = Environment(grid, start, goal)\n",
        "agent = Agent(environment)\n",
        "\n",
        "# Solve the problem with Uniform Cost Search\n",
        "solution_path, battery_levels, recharge_needed = agent.ucs()\n",
        "if solution_path == []:\n",
        "  print(\"Path blocked with obstacles, unable to find path\")\n",
        "  visualize_grid_and_path(grid, solution_path, battery_levels)\n",
        "else:\n",
        "  # Visualize the solution\n",
        "  print(f'Recharge needed: {recharge_needed} times')\n",
        "  visualize_grid_and_path(grid, solution_path, battery_levels)\n"
      ],
      "metadata": {
        "colab": {
          "base_uri": "https://localhost:8080/",
          "height": 423
        },
        "id": "ZrK4cf9VOK5C",
        "outputId": "d7cc2388-2d33-453d-aa7b-c64bb052a321"
      },
      "execution_count": 32,
      "outputs": [
        {
          "output_type": "stream",
          "name": "stdout",
          "text": [
            "Recharge needed: 13 times\n"
          ]
        },
        {
          "output_type": "display_data",
          "data": {
            "text/plain": [
              "<Figure size 640x480 with 1 Axes>"
            ],
            "image/png": "[encoded data removed]"
          },
          "metadata": {}
        }
      ]
    },
    {
      "cell_type": "markdown",
      "source": [
        "# Simulation Using A* Algorithm"
      ],
      "metadata": {
        "id": "ca9Wod-Iu8P4"
      }
    },
    {
      "cell_type": "code",
      "source": [
        "\n",
        "# Create the environment and agent\n",
        "environment = Environment(grid, start, goal)\n",
        "agent = Agent(environment)\n",
        "\n",
        "# Solve the problem with A* Search\n",
        "solution_path, battery_levels, recharge_needed = agent.a_star_search()\n",
        "if solution_path == []:\n",
        "  print(\"Path blocked with obstacles, unable to find path\")\n",
        "  visualize_grid_and_path(grid, solution_path, battery_levels)\n",
        "else:\n",
        "  # Visualize the solution\n",
        "  print(f'Recharge needed: {recharge_needed} times')\n",
        "  visualize_grid_and_path(grid, solution_path, battery_levels)"
      ],
      "metadata": {
        "id": "h-bjZb3uSSdo",
        "colab": {
          "base_uri": "https://localhost:8080/",
          "height": 423
        },
        "outputId": "f2168526-699f-490f-ace7-8ac84b8e880d"
      },
      "execution_count": 31,
      "outputs": [
        {
          "output_type": "stream",
          "name": "stdout",
          "text": [
            "Recharge needed: 7 times\n"
          ]
        },
        {
          "output_type": "display_data",
          "data": {
            "text/plain": [
              "<Figure size 640x480 with 1 Axes>"
            ],
            "image/png": "[encoded data removed]"
          },
          "metadata": {}
        }
      ]
    },
    {
      "cell_type": "code",
      "source": [],
      "metadata": {
        "id": "E1sCwUvzqvAM"
      },
      "execution_count": null,
      "outputs": []
    }
  ]
}
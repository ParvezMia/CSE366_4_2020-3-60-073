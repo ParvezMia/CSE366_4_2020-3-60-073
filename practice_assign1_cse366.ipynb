{
  "nbformat": 4,
  "nbformat_minor": 0,
  "metadata": {
    "colab": {
      "provenance": [],
      "authorship_tag": "ABX9TyNYMYUq3mueOvb23uAfKGrn",
      "include_colab_link": true
    },
    "kernelspec": {
      "name": "python3",
      "display_name": "Python 3"
    },
    "language_info": {
      "name": "python"
    }
  },
  "cells": [
    {
      "cell_type": "markdown",
      "metadata": {
        "id": "view-in-github",
        "colab_type": "text"
      },
      "source": [
        "<a href=\"https://colab.research.google.com/github/ihkcreations/CSE366-4-2020-3-60-073/blob/main/practice_assign1_cse366.ipynb\" target=\"_parent\"><img src=\"https://colab.research.google.com/assets/colab-badge.svg\" alt=\"Open In Colab\"/></a>"
      ]
    },
    {
      "cell_type": "markdown",
      "source": [
        "# Imports"
      ],
      "metadata": {
        "id": "Gkt0SITcfwBY"
      }
    },
    {
      "cell_type": "code",
      "execution_count": 1,
      "metadata": {
        "id": "DQ4gondMZ9MP"
      },
      "outputs": [],
      "source": [
        "import numpy as np\n",
        "import matplotlib.pyplot as plt\n",
        "from collections import deque\n",
        "import heapq"
      ]
    },
    {
      "cell_type": "markdown",
      "source": [
        "# PriorityQueue Class"
      ],
      "metadata": {
        "id": "QZrMjSrnfcph"
      }
    },
    {
      "cell_type": "code",
      "source": [
        "class PriorityQueue:\n",
        "  def __init__(self):\n",
        "    self.elements = []\n",
        "\n",
        "  def empty(self):\n",
        "    return len(self.elements) == 0\n",
        "\n",
        "  def put(self, item, priority):\n",
        "    heapq.heappush(self.elements, (priority, item))\n",
        "\n",
        "  def get(self):\n",
        "    return heapq.heappop(self.elements)[1]"
      ],
      "metadata": {
        "id": "_LhyLjMLbf-t"
      },
      "execution_count": 2,
      "outputs": []
    },
    {
      "cell_type": "markdown",
      "source": [
        "# Node Class"
      ],
      "metadata": {
        "id": "eGxcUgh8fhP5"
      }
    },
    {
      "cell_type": "code",
      "source": [
        "class Node:\n",
        "  def __init__(self, state, parent = None, action = None, path_cost = 0):\n",
        "    self.state = state\n",
        "    self.parent = parent\n",
        "    self.action = action\n",
        "    self.path_cost = path_cost\n",
        "\n",
        "  def __lt__(self, other):\n",
        "    return self.path_cost < other.path_cost"
      ],
      "metadata": {
        "id": "LsuNE5Y4cHN2"
      },
      "execution_count": 3,
      "outputs": []
    },
    {
      "cell_type": "markdown",
      "source": [
        "# Environment Class"
      ],
      "metadata": {
        "id": "QaMGhFqkfkX2"
      }
    },
    {
      "cell_type": "code",
      "source": [
        "class Environment:\n",
        "  def __init__(self, grid, start, goal):\n",
        "    self.grid = grid\n",
        "    self.initial = start\n",
        "    self.goal = goal\n",
        "\n",
        "  def actions(self, state):\n",
        "    possible_actions = ['UP','DOWN','LEFT','RIGHT']\n",
        "    x, y = state\n",
        "\n",
        "    if x == 0 or self.grid[x-1][y] == 1:\n",
        "      possible_actions.remove('UP')\n",
        "    if x == len(self.grid) - 1 or self.grid[x + 1][y] == 1:\n",
        "      possible_actions.remove('DOWN')\n",
        "    if y == 0 or self.grid[x][y-1] == 1:\n",
        "      possible_actions.remove('LEFT')\n",
        "    if y == len(self.grid[0]) - 1 or self.grid[x][y + 1] == 1:\n",
        "      possible_actions.remove('RIGHT')\n",
        "\n",
        "    return possible_actions\n",
        "\n",
        "  def result(self, state, action):\n",
        "    x, y = state\n",
        "    if action == 'UP':\n",
        "      return (x - 1, y)\n",
        "    if action == 'DOWN':\n",
        "      return (x + 1, y)\n",
        "    if action == 'LEFT':\n",
        "      return (x, y - 1)\n",
        "    if action == 'RIGHT':\n",
        "      return (x, y + 1)\n",
        "\n",
        "\n",
        "  def is_goal(self, state):\n",
        "        return state == self.goal\n",
        "\n",
        "  def get_grid_size(self):\n",
        "    return len(self.grid)"
      ],
      "metadata": {
        "id": "g04DPx8hcf21"
      },
      "execution_count": 4,
      "outputs": []
    },
    {
      "cell_type": "markdown",
      "source": [
        "# Agent Class"
      ],
      "metadata": {
        "id": "QGGYVAM9fnvV"
      }
    },
    {
      "cell_type": "code",
      "source": [
        "class Agent:\n",
        "\n",
        "  def __init__(self, env):\n",
        "    self.env = env\n",
        "    self.cost_so_far = {}\n",
        "    self.came_from = {}\n",
        "\n",
        "  def ucs(self):\n",
        "    frontier = PriorityQueue()\n",
        "    frontier.put(Node(self.env.initial, path_cost = 0), 0)\n",
        "    self.came_from = {self.env.initial: None}\n",
        "    self.cost_so_far = {self.env.initial: 0}\n",
        "\n",
        "    while not frontier.empty():\n",
        "      current_node = frontier.get()\n",
        "\n",
        "      if self.env.is_goal(current_node.state):\n",
        "        return self.reconstruct_path(self.came_from, current_node.state)\n",
        "\n",
        "      for action in self.env.actions(current_node.state):\n",
        "        new_state = self.env.result(current_node.state, action)\n",
        "        new_cost = self.cost_so_far[current_node.state] + 1\n",
        "        if new_state not in self.cost_so_far or new_cost < self.cost_so_far[new_state]:\n",
        "          self.cost_so_far[new_state] = new_cost\n",
        "          priority = new_cost\n",
        "          frontier.put(Node(new_state, current_node, action, new_cost), priority)\n",
        "          self.came_from[new_state] = current_node.state\n",
        "\n",
        "    return []\n",
        "\n",
        "  def cost_far(self):\n",
        "    return self.cost_so_far\n",
        "\n",
        "  def came_fr(self):\n",
        "    return self.came_from\n",
        "\n",
        "  def reconstruct_path(self, came_from, current):\n",
        "      path = []\n",
        "      while current in came_from:\n",
        "          path.append(current)\n",
        "          current = came_from[current]\n",
        "      path.append(self.env.initial)\n",
        "      path.reverse()\n",
        "      return path"
      ],
      "metadata": {
        "id": "HBqo8NZ0cp5O"
      },
      "execution_count": 5,
      "outputs": []
    },
    {
      "cell_type": "markdown",
      "source": [
        "# Visualization Class\n"
      ],
      "metadata": {
        "id": "UTVu5nEriKIU"
      }
    },
    {
      "cell_type": "code",
      "source": [
        "# Visualization Function plots the grid and the found path.\n",
        "def visualize_grid_and_path(grid, path):\n",
        "    grid_array = np.array(grid)  # Convert grid to numpy array for easy plotting.\n",
        "    fig, ax = plt.subplots()\n",
        "    ax.imshow(grid_array, cmap='Greys', alpha=0.3)  # Grid background.\n",
        "    start = path[0]\n",
        "    goal = path[-1]\n",
        "    ax.plot(start[1], start[0], 'bs', markersize=10)  # Start position in blue.\n",
        "    ax.plot(goal[1], goal[0], 'gs', markersize=10)  # Goal position in green.\n",
        "    xs, ys = zip(*path)  # Extract X and Y coordinates of the path.\n",
        "    ax.plot(ys, xs, 'y-', linewidth=2)  # Plot the path in red.\n",
        "    ax.set_xticks(np.arange(-.5, len(grid[0]), 1), minor=True)\n",
        "    ax.set_yticks(np.arange(-.5, len(grid), 1), minor=True)\n",
        "    ax.grid(which=\"minor\", color=\"b\", linestyle='-', linewidth=1)\n",
        "    ax.tick_params(which=\"minor\", size=0)\n",
        "    ax.tick_params(which=\"major\", bottom=False, left=False, labelbottom=False, labelleft=False)\n",
        "    plt.show()"
      ],
      "metadata": {
        "id": "4DVdCBWwiN1M"
      },
      "execution_count": 6,
      "outputs": []
    },
    {
      "cell_type": "markdown",
      "source": [
        "# Simulation"
      ],
      "metadata": {
        "id": "6oTsOYLbiVds"
      }
    },
    {
      "cell_type": "code",
      "source": [
        "# Define the grid, start position, and goal position\n",
        "grid = [\n",
        "    [0, 1, 0, 0, 0],\n",
        "    [0, 1, 0, 0, 0],\n",
        "    [0, 1, 0, 1, 0],\n",
        "    [0, 1, 0, 0, 0],\n",
        "    [0, 0, 0, 1, 0]\n",
        "]\n",
        "\n",
        "start = (0, 0)\n",
        "goal = (4, 4)\n",
        "\n",
        "# Create the environment and agent\n",
        "environment = Environment(grid, start, goal)\n",
        "agent = Agent(environment)\n",
        "\n",
        "# Solve the problem with Uniform Cost Search\n",
        "solution_path = agent.ucs()\n",
        "\n",
        "# Visualize the solution\n",
        "visualize_grid_and_path(grid, solution_path)"
      ],
      "metadata": {
        "colab": {
          "base_uri": "https://localhost:8080/",
          "height": 406
        },
        "id": "22DCRucLicNE",
        "outputId": "d45de003-b495-47b3-bdf0-786c83ec2f9b"
      },
      "execution_count": 7,
      "outputs": [
        {
          "output_type": "display_data",
          "data": {
            "text/plain": [
              "<Figure size 640x480 with 1 Axes>"
            ],
            "image/png": "[encoded data removed]"
          },
          "metadata": {}
        }
      ]
    },
    {
      "cell_type": "markdown",
      "source": [
        "# Debugging some sections"
      ],
      "metadata": {
        "id": "_hkrDXDWxXqA"
      }
    },
    {
      "cell_type": "code",
      "source": [
        "agent.cost_far()"
      ],
      "metadata": {
        "colab": {
          "base_uri": "https://localhost:8080/"
        },
        "id": "BIKJ17W-qJN-",
        "outputId": "57a4ca41-8872-4765-faac-3f8dcec6f3ea"
      },
      "execution_count": null,
      "outputs": [
        {
          "output_type": "execute_result",
          "data": {
            "text/plain": [
              "{(0, 0): 0,\n",
              " (1, 0): 1,\n",
              " (2, 0): 2,\n",
              " (3, 0): 3,\n",
              " (4, 0): 4,\n",
              " (4, 1): 5,\n",
              " (4, 2): 6,\n",
              " (3, 2): 7,\n",
              " (2, 2): 8,\n",
              " (3, 3): 8,\n",
              " (1, 2): 9,\n",
              " (3, 4): 9,\n",
              " (0, 2): 10,\n",
              " (1, 3): 10,\n",
              " (2, 4): 10,\n",
              " (4, 4): 10,\n",
              " (0, 3): 11,\n",
              " (1, 4): 11}"
            ]
          },
          "metadata": {},
          "execution_count": 42
        }
      ]
    },
    {
      "cell_type": "code",
      "source": [
        "agent.came_fr()"
      ],
      "metadata": {
        "colab": {
          "base_uri": "https://localhost:8080/"
        },
        "id": "nVHLwgkLt5W_",
        "outputId": "2b89ddac-d883-40aa-f227-4bc48bf534c7"
      },
      "execution_count": null,
      "outputs": [
        {
          "output_type": "execute_result",
          "data": {
            "text/plain": [
              "{(0, 0): None,\n",
              " (1, 0): (0, 0),\n",
              " (2, 0): (1, 0),\n",
              " (3, 0): (2, 0),\n",
              " (4, 0): (3, 0),\n",
              " (4, 1): (4, 0),\n",
              " (4, 2): (4, 1),\n",
              " (3, 2): (4, 2),\n",
              " (2, 2): (3, 2),\n",
              " (3, 3): (3, 2),\n",
              " (1, 2): (2, 2),\n",
              " (3, 4): (3, 3),\n",
              " (0, 2): (1, 2),\n",
              " (1, 3): (1, 2),\n",
              " (2, 4): (3, 4),\n",
              " (4, 4): (3, 4),\n",
              " (0, 3): (0, 2),\n",
              " (1, 4): (2, 4)}"
            ]
          },
          "metadata": {},
          "execution_count": 43
        }
      ]
    },
    {
      "cell_type": "code",
      "source": [
        "environment.get_grid_size()"
      ],
      "metadata": {
        "id": "8_ryPO1qxTbP",
        "colab": {
          "base_uri": "https://localhost:8080/"
        },
        "outputId": "1e860667-24e3-4df0-d67a-6cb1ffd16bcb"
      },
      "execution_count": 8,
      "outputs": [
        {
          "output_type": "execute_result",
          "data": {
            "text/plain": [
              "5"
            ]
          },
          "metadata": {},
          "execution_count": 8
        }
      ]
    },
    {
      "cell_type": "code",
      "source": [],
      "metadata": {
        "id": "DKMtlUOAW875"
      },
      "execution_count": null,
      "outputs": []
    }
  ]
}
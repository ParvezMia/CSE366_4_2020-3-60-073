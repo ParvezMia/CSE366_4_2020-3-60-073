{
  "cells": [
    {
      "cell_type": "markdown",
      "source": [
        "# Assignment Info\n",
        "Lab Assignment 2 - Genetic Algorithm - Robot Resource Optimization <br>\n",
        "CSE366, Sec:4\n",
        "\n",
        "Name: Md. Iftekhar Hossain Khan <br>\n",
        "ID: 2020-3-60-073 <br>\n",
        "Course Instructor: Dr. Mohammad Rifat Ahmmad Rashid (Assistant Professor, CSE)<br>\n",
        "East West University"
      ],
      "metadata": {
        "id": "woj8Sfm-i-aw"
      }
    },
    {
      "cell_type": "markdown",
      "source": [
        "# Imports"
      ],
      "metadata": {
        "id": "KEtpGfu9FyHh"
      }
    },
    {
      "cell_type": "code",
      "execution_count": null,
      "metadata": {
        "id": "FXtyCKR1JN1r"
      },
      "outputs": [],
      "source": [
        "import numpy as np\n",
        "import matplotlib.pyplot as plt\n",
        "import matplotlib.colors as mcolors\n",
        "import matplotlib.patches as mpatches"
      ]
    },
    {
      "cell_type": "markdown",
      "source": [
        "# Visualization of Robot Task Optimization"
      ],
      "metadata": {
        "id": "OiElTNyKOqTX"
      }
    },
    {
      "cell_type": "code",
      "execution_count": null,
      "metadata": {
        "id": "R_GDFuhdVz8c"
      },
      "outputs": [],
      "source": [
        "# Improved visualization function\n",
        "def visualize_assignments_improved(solution, task_durations, task_priorities, robot_efficiencies):\n",
        "    # Create a grid for visualization based on the solution provided\n",
        "    grid = np.zeros((len(robot_efficiencies), len(task_durations)), dtype=int)\n",
        "    for task_idx, robot_idx in enumerate(solution):\n",
        "        grid[robot_idx, task_idx] = task_durations[task_idx]\n",
        "\n",
        "\n",
        "    fig, ax = plt.subplots(figsize=(12, 6))\n",
        "    cmap = mcolors.LinearSegmentedColormap.from_list(\"\", [\"white\", \"orange\"])  # Custom colormap\n",
        "\n",
        "    # Display the grid with task durations\n",
        "    cax = ax.matshow(grid, cmap=cmap)\n",
        "    fig.colorbar(cax, label='Task Duration (hours)')\n",
        "\n",
        "    # Annotate each cell with task priority and duration\n",
        "    for (i, j), z in np.ndenumerate(grid):\n",
        "      tp = task_priorities[j] # for printing task priorities column wise\n",
        "      td = task_durations[j]  # for printing task duration column wise\n",
        "      ax.text(j, i, f'P{tp}\\n{td}h', ha='center', va='center')\n",
        "\n",
        "\n",
        "    # Set the ticks and labels for tasks and robots\n",
        "    ax.set_xticks(np.arange(len(task_durations)))\n",
        "    ax.set_yticks(np.arange(len(robot_efficiencies)))\n",
        "    ax.set_xticklabels([f'Task {i+1}' for i in range(len(task_durations))], rotation=45, ha=\"left\")\n",
        "    ax.set_yticklabels([f'Robot {i+1} (Efficiency: {eff:.2f})' for i, eff in enumerate(robot_efficiencies)])\n",
        "\n",
        "    plt.xlabel('Tasks')\n",
        "    plt.ylabel('Robots')\n",
        "    plt.title('Task Assignments with Task Duration and Priority')\n",
        "\n",
        "    # Create a legend for task priorities\n",
        "    priority_patches = [mpatches.Patch(color='white', label=f'Priority {i}') for i in range(1, 6)]\n",
        "    plt.legend(handles=priority_patches, bbox_to_anchor=(1.20, 1), loc='upper left', title=\"Task Priorities\")\n",
        "\n",
        "\n",
        "    plt.tight_layout()\n",
        "    plt.show()\n",
        "    return grid"
      ]
    },
    {
      "cell_type": "markdown",
      "source": [
        "# Random Seed"
      ],
      "metadata": {
        "id": "NbnXaUlzF22J"
      }
    },
    {
      "cell_type": "code",
      "execution_count": null,
      "metadata": {
        "id": "tBZB_NqyMexQ"
      },
      "outputs": [],
      "source": [
        "np.random.seed(46)"
      ]
    },
    {
      "cell_type": "markdown",
      "source": [
        "# Generate Mock Data Function"
      ],
      "metadata": {
        "id": "UIYbbQhgIkud"
      }
    },
    {
      "cell_type": "code",
      "execution_count": null,
      "metadata": {
        "id": "UytFxe8RMlf4"
      },
      "outputs": [],
      "source": [
        "def generate_mock_data(num_tasks = 10, num_robots=5):\n",
        "  task_durations = np.random.randint(1, 11, size = num_tasks)\n",
        "  task_priorities = np.random.randint(1, 6, size = num_tasks)\n",
        "  robot_efficiencies = np.random.uniform(0.5, 1.5, size = num_robots)\n",
        "  return task_durations, task_priorities, robot_efficiencies"
      ]
    },
    {
      "cell_type": "markdown",
      "source": [
        "# Genetic Algorithm Class (OptimizeRobotResource_GA)"
      ],
      "metadata": {
        "id": "92J78HZ8IrO9"
      }
    },
    {
      "cell_type": "code",
      "source": [
        "class OptimizeRobotResource_GA:\n",
        "    def __init__(self, task_durations, task_priorities, robot_efficiencies, population_size=50, n_generations=100, tournament_size=5, mutation_rate=0.1):\n",
        "      self.task_durations = task_durations\n",
        "      self.task_priorities = task_priorities\n",
        "      self.robot_efficiencies = robot_efficiencies\n",
        "      self.population_size = population_size\n",
        "      self.n_generations = n_generations\n",
        "      self.tournament_size = tournament_size\n",
        "      self.mutation_rate = mutation_rate\n",
        "\n",
        "\n",
        "    def generate_population(self):\n",
        "      population = [np.random.randint(0, len(self.robot_efficiencies), size=len(self.task_durations)) for _ in range(self.population_size)]\n",
        "      return population\n",
        "\n",
        "\n",
        "    def calc_fitness(self, solution):\n",
        "      total_times = np.zeros(len(self.robot_efficiencies)) # creates an multidimentional arrays of zeros based on the robot efficiencies counts\n",
        "      for task, robot in enumerate(solution):\n",
        "        total_times[robot] += self.task_durations[task] * self.task_priorities[task] / self.robot_efficiencies[robot] # calculation of tr\n",
        "\n",
        "      t_total = np.max(total_times)   # calculation of t_total\n",
        "      workload = np.std(total_times)  # takes standard deviation value of the total_times\n",
        "      fitness = t_total + workload    # calculates fitness function\n",
        "      return fitness\n",
        "\n",
        "\n",
        "    # Used Tournament Selection process here\n",
        "    def selection(self, population, tournament_size):\n",
        "      selected_solutions = []\n",
        "      for _ in range(len(population)):\n",
        "        tournament_indexes = np.random.choice(len(population), tournament_size, replace=False)  # selects some random indexes to choose from population\n",
        "        tournament_solutions = [population[i] for i in tournament_indexes]                      # selects populations based on tournament indexes\n",
        "        tournament_fitness = [self.calc_fitness(sol) for sol in tournament_solutions]           # calculates fitness of each of the selected solutions\n",
        "        winner_index = np.argmin(tournament_fitness)                                            # gets the fitted solution index\n",
        "        selected_solutions.append(tournament_solutions[winner_index])                           # appends those selected fitted solutions here\n",
        "      return selected_solutions\n",
        "\n",
        "\n",
        "    def crossover(self, parent1, parent2):\n",
        "        crossover_point = np.random.randint(1, len(parent1))                                    # chooses crossover point randomly based on the parents count value\n",
        "        child1 = np.concatenate((parent1[:crossover_point], parent2[crossover_point:]))         # creates first child from the parents based on the crossover point\n",
        "        child2 = np.concatenate((parent2[:crossover_point], parent1[crossover_point:]))         # creates second child from the parents\n",
        "        return child1, child2\n",
        "\n",
        "\n",
        "    def mutate(self, solution, mutation_rate):\n",
        "        mutated_solution = solution.copy()\n",
        "        for i in range(len(mutated_solution)):\n",
        "            if np.random.rand() < mutation_rate:                                                # if the random value is less than the mutation rate begin swap\n",
        "                swap_idx = np.random.randint(len(mutated_solution))                             # chooses a random number for swapping\n",
        "                mutated_solution[i], mutated_solution[swap_idx] = mutated_solution[swap_idx], mutated_solution[i]  # swaps values to do mutation process\n",
        "        return mutated_solution\n",
        "\n",
        "    def run_simulation(self):\n",
        "        best_solution = None\n",
        "        best_fitness = float('inf')\n",
        "        best_generation = None\n",
        "        population = self.generate_population()\n",
        "        for generation in range(self.n_generations):\n",
        "          parents = self.selection(population, self.tournament_size)        # selection of the parents\n",
        "          next_generation = []                                              # empty list for the next generation\n",
        "          for i in range(0, len(parents), 2):\n",
        "              parent1, parent2 = parents[i], parents[i+1]\n",
        "              child1, child2 = self.crossover(parent1, parent2)\n",
        "              child1 = self.mutate(child1, self.mutation_rate)              # gets mutated child1 and child2 from the selected parents\n",
        "              child2 = self.mutate(child2, self.mutation_rate)\n",
        "              next_generation.extend([child1, child2])                      # stores the mutated child the list\n",
        "          population = next_generation\n",
        "\n",
        "          # Evaluate fitness of the best solution in the current generation\n",
        "          current_best_solution = min(population, key=self.calc_fitness)\n",
        "          current_best_fitness = self.calc_fitness(current_best_solution)\n",
        "          if current_best_fitness < best_fitness:\n",
        "              best_solution = current_best_solution\n",
        "              best_fitness = current_best_fitness\n",
        "              best_generation = generation\n",
        "\n",
        "        return best_solution, best_generation"
      ],
      "metadata": {
        "id": "t7vp8icrobQ3"
      },
      "execution_count": null,
      "outputs": []
    },
    {
      "cell_type": "markdown",
      "source": [
        "# Running simulation using class (OptimizeRobotResource_GA)"
      ],
      "metadata": {
        "id": "TCdcX9DBuqTQ"
      }
    },
    {
      "cell_type": "code",
      "source": [
        "    # defining parameters\n",
        "    num_tasks = 10\n",
        "    num_robots = 5\n",
        "\n",
        "    population_size = 50\n",
        "    n_generations = 100\n",
        "    tournament_size = 5\n",
        "    mutation_rate = 0.1\n",
        "\n",
        "    # generating mock datas\n",
        "    task_durations, task_priorities, robot_efficiencies = generate_mock_data(num_tasks, num_robots)\n",
        "\n",
        "    print(f'Task Durations: {task_durations} Total: {np.sum(task_durations)}h')\n",
        "    print(f'Task Priorities: {task_priorities}')\n",
        "    print(f'Robot Efficiencies: {robot_efficiencies}')\n",
        "\n",
        "    # Run GA to find the best solution\n",
        "    runGA = OptimizeRobotResource_GA(task_durations, task_priorities, robot_efficiencies, population_size, n_generations, tournament_size, mutation_rate)\n",
        "    best_solution, best_generation = runGA.run_simulation()\n",
        "    print(f'Best Solution: {best_solution}')\n",
        "    print(f'At Generation: {best_generation}')\n",
        "\n",
        "    # Visualize the initial random assignment\n",
        "    grid = visualize_assignments_improved(best_solution, task_durations, task_priorities, robot_efficiencies)"
      ],
      "metadata": {
        "colab": {
          "base_uri": "https://localhost:8080/",
          "height": 665
        },
        "id": "BH35fjHLsHkF",
        "outputId": "e6354be6-8fdc-4f1b-daf1-6fd94b643c0f"
      },
      "execution_count": null,
      "outputs": [
        {
          "output_type": "stream",
          "name": "stdout",
          "text": [
            "Task Durations: [10  1  5  2  3  6 10  6  4  8] Total: 55h\n",
            "Task Priorities: [2 3 3 2 5 4 2 3 5 3]\n",
            "Robot Efficiencies: [0.85093228 1.12317089 0.63567646 0.53138628 0.69709284]\n",
            "Best Solution: [1 3 4 1 4 2 3 0 0 1]\n",
            "At Generation: 7\n"
          ]
        },
        {
          "output_type": "display_data",
          "data": {
            "text/plain": [
              "<Figure size 1200x600 with 2 Axes>"
            ],
            "image/png": "[encoded data removed]"
          },
          "metadata": {}
        }
      ]
    },
    {
      "cell_type": "markdown",
      "source": [
        "# Debugging and exploring new stuff"
      ],
      "metadata": {
        "id": "FPtIiBJ0ig8u"
      }
    },
    {
      "cell_type": "code",
      "source": [
        "runGA.calc_fitness(best_solution)"
      ],
      "metadata": {
        "colab": {
          "base_uri": "https://localhost:8080/"
        },
        "id": "KyJZSVJAxGMK",
        "outputId": "394b80c9-4254-4aff-a3df-ec89bbaf4aa5"
      },
      "execution_count": null,
      "outputs": [
        {
          "output_type": "execute_result",
          "data": {
            "text/plain": [
              "46.10064435485727"
            ]
          },
          "metadata": {},
          "execution_count": 197
        }
      ]
    },
    {
      "cell_type": "code",
      "execution_count": null,
      "metadata": {
        "colab": {
          "base_uri": "https://localhost:8080/"
        },
        "id": "eZ8GeYIdZ_on",
        "outputId": "6b53b84c-9d33-417b-f612-74000962f997"
      },
      "outputs": [
        {
          "data": {
            "text/plain": [
              "array([[ 0,  0,  9,  0,  0,  0,  0,  0,  0,  0],\n",
              "       [ 0,  7,  0,  6,  0,  8,  0,  0,  0,  0],\n",
              "       [ 0,  0,  0,  0,  0,  0,  0,  8, 10,  0],\n",
              "       [ 0,  0,  0,  0,  2,  0,  0,  0,  0,  9],\n",
              "       [10,  0,  0,  0,  0,  0,  9,  0,  0,  0]])"
            ]
          },
          "execution_count": 28,
          "metadata": {},
          "output_type": "execute_result"
        }
      ],
      "source": [
        "grid"
      ]
    },
    {
      "cell_type": "code",
      "execution_count": null,
      "metadata": {
        "id": "_viuhAH4bx7s"
      },
      "outputs": [],
      "source": [
        "population_size = 50\n",
        "population = [np.random.randint(0, len(robot_efficiencies),\n",
        "                                size=len(task_durations)) for _ in range(population_size)]\n",
        "\n",
        "task_durations, task_priorities, robot_efficiencies = generate_mock_data(10, 5)\n",
        "\n",
        "def calc_fitness(solution, task_durations, task_priorities, robot_efficiencies):\n",
        "      total_times = np.zeros(len(robot_efficiencies))\n",
        "      for task, robot in enumerate(solution):\n",
        "        total_times[robot] += task_durations[task] * task_priorities[task] / robot_efficiencies[robot]\n",
        "\n",
        "      t_total = np.max(total_times) #calculation of t_total\n",
        "      workload = np.std(total_times) # taking standard deviation value of the total_times\n",
        "      fitness = t_total + workload #calculating fitness function\n",
        "      return fitness"
      ]
    },
    {
      "cell_type": "code",
      "execution_count": null,
      "metadata": {
        "colab": {
          "base_uri": "https://localhost:8080/"
        },
        "id": "zykZ-rPzeY3v",
        "outputId": "c0e7b479-e8a7-4a1f-bd63-3e6a41fe1e31"
      },
      "outputs": [
        {
          "data": {
            "text/plain": [
              "array([35, 20, 31, 18, 13, 44, 26, 30, 21,  4])"
            ]
          },
          "execution_count": 108,
          "metadata": {},
          "output_type": "execute_result"
        }
      ],
      "source": [
        "tournament_indices = np.random.choice(len(population), 10, replace=False)\n",
        "tournament_indices"
      ]
    },
    {
      "cell_type": "code",
      "execution_count": null,
      "metadata": {
        "colab": {
          "base_uri": "https://localhost:8080/"
        },
        "id": "FPwai7wkeoN_",
        "outputId": "d34230bf-109f-4db6-9991-0e8444f10f8b"
      },
      "outputs": [
        {
          "data": {
            "text/plain": [
              "[array([4, 0, 4, 2, 4, 1, 0, 2, 2, 0]),\n",
              " array([2, 2, 0, 2, 4, 2, 4, 4, 4, 1]),\n",
              " array([3, 2, 4, 0, 4, 4, 0, 3, 0, 2]),\n",
              " array([4, 4, 0, 1, 0, 1, 1, 0, 2, 4]),\n",
              " array([4, 3, 0, 3, 0, 3, 4, 2, 1, 1]),\n",
              " array([1, 4, 3, 1, 2, 2, 0, 1, 3, 2]),\n",
              " array([0, 3, 3, 0, 4, 3, 1, 3, 3, 3]),\n",
              " array([1, 4, 2, 1, 2, 4, 2, 2, 0, 1]),\n",
              " array([3, 4, 2, 3, 3, 3, 1, 1, 1, 0]),\n",
              " array([0, 1, 2, 3, 4, 1, 3, 3, 1, 3])]"
            ]
          },
          "execution_count": 109,
          "metadata": {},
          "output_type": "execute_result"
        }
      ],
      "source": [
        "tournament_solutions = [population[i] for i in tournament_indices]\n",
        "tournament_solutions"
      ]
    },
    {
      "cell_type": "code",
      "execution_count": null,
      "metadata": {
        "colab": {
          "base_uri": "https://localhost:8080/"
        },
        "id": "xRZS-Cjmeueo",
        "outputId": "81d0fe5d-3cc9-4f84-c129-a7b87ee946ac"
      },
      "outputs": [
        {
          "data": {
            "text/plain": [
              "[59.24198131561283,\n",
              " 79.56887136327202,\n",
              " 59.32411891174733,\n",
              " 105.79767341691326,\n",
              " 78.60817373260008,\n",
              " 98.89889330015326,\n",
              " 82.12612124987618,\n",
              " 70.87408384520793,\n",
              " 86.79298051362427,\n",
              " 75.11097036398868]"
            ]
          },
          "execution_count": 94,
          "metadata": {},
          "output_type": "execute_result"
        }
      ],
      "source": [
        "tournament_fitness = [calc_fitness(sol, task_durations, task_priorities, robot_efficiencies) for sol in tournament_solutions]\n",
        "tournament_fitness"
      ]
    },
    {
      "cell_type": "code",
      "execution_count": null,
      "metadata": {
        "colab": {
          "base_uri": "https://localhost:8080/"
        },
        "id": "M2it46Eye7C4",
        "outputId": "c33ab965-90e0-4aa8-9627-9b3fd18570bb"
      },
      "outputs": [
        {
          "data": {
            "text/plain": [
              "0"
            ]
          },
          "execution_count": 95,
          "metadata": {},
          "output_type": "execute_result"
        }
      ],
      "source": [
        "winner_index = np.argmin(tournament_fitness)\n",
        "winner_index"
      ]
    },
    {
      "cell_type": "code",
      "execution_count": null,
      "metadata": {
        "colab": {
          "base_uri": "https://localhost:8080/"
        },
        "id": "P9FltCW9fHZI",
        "outputId": "6a15dbe7-57da-4e39-9c4f-65dccb6bfb1a"
      },
      "outputs": [
        {
          "data": {
            "text/plain": [
              "[array([2, 1, 0, 2, 3, 1, 4, 1, 1, 2]),\n",
              " array([0, 3, 3, 0, 4, 3, 1, 3, 3, 3]),\n",
              " array([0, 1, 2, 1, 3, 0, 0, 3, 0, 0]),\n",
              " array([1, 0, 3, 4, 2, 0, 1, 2, 3, 3]),\n",
              " array([0, 1, 2, 4, 3, 2, 1, 1, 0, 0]),\n",
              " array([1, 1, 4, 4, 0, 3, 1, 1, 0, 2]),\n",
              " array([0, 1, 2, 4, 3, 2, 1, 1, 0, 0]),\n",
              " array([3, 2, 4, 0, 1, 0, 1, 4, 0, 1]),\n",
              " array([0, 0, 1, 1, 3, 4, 2, 1, 3, 0]),\n",
              " array([3, 2, 4, 0, 1, 0, 1, 4, 0, 1]),\n",
              " array([0, 3, 3, 0, 4, 3, 1, 3, 3, 3]),\n",
              " array([1, 1, 4, 4, 0, 3, 1, 1, 0, 2]),\n",
              " array([1, 0, 3, 4, 2, 0, 1, 2, 3, 3]),\n",
              " array([0, 1, 2, 4, 3, 2, 1, 1, 0, 0]),\n",
              " array([4, 3, 3, 4, 1, 0, 0, 4, 3, 1]),\n",
              " array([0, 1, 2, 1, 3, 0, 0, 3, 0, 0]),\n",
              " array([0, 1, 2, 4, 3, 2, 1, 1, 0, 0]),\n",
              " array([0, 1, 2, 4, 3, 2, 1, 1, 0, 0]),\n",
              " array([0, 0, 1, 1, 3, 4, 2, 1, 3, 0]),\n",
              " array([1, 2, 2, 0, 0, 2, 3, 1, 3, 3]),\n",
              " array([1, 0, 3, 4, 2, 0, 1, 2, 3, 3]),\n",
              " array([0, 1, 2, 4, 3, 2, 1, 1, 0, 0]),\n",
              " array([2, 1, 0, 2, 3, 1, 4, 1, 1, 2]),\n",
              " array([0, 1, 2, 3, 4, 1, 3, 3, 1, 3]),\n",
              " array([4, 2, 2, 1, 1, 0, 1, 3, 2, 4]),\n",
              " array([2, 1, 0, 2, 3, 1, 4, 1, 1, 2]),\n",
              " array([0, 1, 2, 3, 4, 1, 3, 3, 1, 3]),\n",
              " array([0, 1, 2, 4, 3, 2, 1, 1, 0, 0]),\n",
              " array([2, 1, 0, 2, 3, 1, 4, 1, 1, 2]),\n",
              " array([0, 1, 2, 3, 4, 1, 3, 3, 1, 3]),\n",
              " array([0, 1, 2, 3, 4, 1, 3, 3, 1, 3]),\n",
              " array([4, 2, 3, 0, 2, 0, 1, 0, 4, 4]),\n",
              " array([0, 1, 2, 1, 3, 0, 0, 3, 0, 0]),\n",
              " array([0, 1, 2, 3, 4, 1, 3, 3, 1, 3]),\n",
              " array([2, 1, 0, 2, 3, 1, 4, 1, 1, 2]),\n",
              " array([0, 0, 1, 1, 3, 4, 2, 1, 3, 0]),\n",
              " array([0, 1, 2, 4, 3, 2, 1, 1, 0, 0]),\n",
              " array([0, 0, 1, 1, 3, 4, 2, 1, 3, 0]),\n",
              " array([2, 1, 0, 2, 3, 1, 4, 1, 1, 2]),\n",
              " array([2, 1, 0, 2, 3, 1, 4, 1, 1, 2]),\n",
              " array([0, 1, 2, 3, 4, 1, 3, 3, 1, 3]),\n",
              " array([2, 1, 0, 2, 3, 1, 4, 1, 1, 2]),\n",
              " array([0, 3, 3, 0, 4, 3, 1, 3, 3, 3]),\n",
              " array([0, 1, 2, 4, 3, 2, 1, 1, 0, 0]),\n",
              " array([0, 1, 2, 4, 3, 2, 1, 1, 0, 0]),\n",
              " array([0, 1, 2, 3, 4, 1, 3, 3, 1, 3]),\n",
              " array([3, 0, 4, 0, 3, 0, 4, 3, 3, 0]),\n",
              " array([1, 0, 3, 4, 2, 0, 1, 2, 3, 3]),\n",
              " array([0, 0, 1, 1, 3, 4, 2, 1, 3, 0]),\n",
              " array([0, 0, 1, 1, 3, 4, 2, 1, 3, 0])]"
            ]
          },
          "execution_count": 110,
          "metadata": {},
          "output_type": "execute_result"
        }
      ],
      "source": [
        "selected_solutions = []\n",
        "for _ in range(len(population)):\n",
        "  tournament_indices = np.random.choice(len(population), 10, replace=False)\n",
        "  tournament_solutions = [population[i] for i in tournament_indices]\n",
        "  tournament_fitness = [calc_fitness(sol, task_durations, task_priorities, robot_efficiencies) for sol in tournament_solutions]\n",
        "  winner_index = np.argmin(tournament_fitness)\n",
        "  selected_solutions.append(tournament_solutions[winner_index])\n",
        "selected_solutions"
      ]
    },
    {
      "cell_type": "code",
      "execution_count": null,
      "metadata": {
        "colab": {
          "base_uri": "https://localhost:8080/"
        },
        "id": "MSoGjudegJuS",
        "outputId": "d837d5cd-d126-497a-ee1a-5904dda39c92"
      },
      "outputs": [
        {
          "data": {
            "text/plain": [
              "39"
            ]
          },
          "execution_count": 122,
          "metadata": {},
          "output_type": "execute_result"
        }
      ],
      "source": [
        "np.sum(task_durations)"
      ]
    },
    {
      "cell_type": "code",
      "execution_count": null,
      "metadata": {
        "colab": {
          "base_uri": "https://localhost:8080/"
        },
        "id": "AsFVSq72k14T",
        "outputId": "52af1059-04ad-468a-ab56-1da49aa392cf"
      },
      "outputs": [
        {
          "data": {
            "text/plain": [
              "array([[0, 0, 0, 0, 0, 0, 0, 0, 0, 0],\n",
              "       [0, 0, 0, 0, 0, 0, 0, 0, 0, 0],\n",
              "       [0, 0, 0, 0, 0, 0, 0, 0, 0, 0],\n",
              "       [0, 0, 0, 0, 0, 0, 0, 0, 0, 0],\n",
              "       [0, 0, 0, 0, 0, 0, 0, 0, 0, 0]])"
            ]
          },
          "execution_count": 44,
          "metadata": {},
          "output_type": "execute_result"
        }
      ],
      "source": [
        "g = np.zeros((len(robot_efficiencies), len(task_durations)), dtype=int)\n",
        "g"
      ]
    },
    {
      "cell_type": "code",
      "execution_count": null,
      "metadata": {
        "colab": {
          "base_uri": "https://localhost:8080/"
        },
        "id": "ocVSRsvpX5jA",
        "outputId": "393df9ac-7436-47e1-df9b-6b27beec2bc4"
      },
      "outputs": [
        {
          "data": {
            "text/plain": [
              "array([[1, 3, 2, 1, 4, 2, 4, 4, 1, 2],\n",
              "       [1, 4, 4, 3, 2, 1, 1, 2, 3, 1],\n",
              "       [2, 4, 1, 1, 3, 4, 4, 3, 3, 4],\n",
              "       [4, 2, 1, 2, 3, 3, 4, 2, 3, 2],\n",
              "       [2, 4, 1, 1, 1, 1, 1, 2, 4, 2]])"
            ]
          },
          "execution_count": 43,
          "metadata": {},
          "output_type": "execute_result"
        }
      ],
      "source": [
        "s = np.random.randint(1, 5, size=(5, 10))\n",
        "s"
      ]
    },
    {
      "cell_type": "code",
      "execution_count": null,
      "metadata": {
        "colab": {
          "base_uri": "https://localhost:8080/"
        },
        "id": "asCKNaWgasOe",
        "outputId": "1f519202-acff-4c27-8ab3-cae566dd4656"
      },
      "outputs": [
        {
          "data": {
            "text/plain": [
              "array([[ 0,  0,  9,  0,  0,  0,  0,  0,  0,  0],\n",
              "       [ 0,  7,  0,  6,  0,  8,  0,  0,  0,  0],\n",
              "       [ 0,  0,  0,  0,  0,  0,  0,  8, 10,  0],\n",
              "       [ 0,  0,  0,  0,  2,  0,  0,  0,  0,  9],\n",
              "       [10,  0,  0,  0,  0,  0,  9,  0,  0,  0]])"
            ]
          },
          "execution_count": 50,
          "metadata": {},
          "output_type": "execute_result"
        }
      ],
      "source": [
        "grid"
      ]
    },
    {
      "cell_type": "code",
      "execution_count": null,
      "metadata": {
        "colab": {
          "base_uri": "https://localhost:8080/"
        },
        "id": "GEfd4_R9bRyO",
        "outputId": "706d560d-1673-40d5-b8f5-9636a0414b57"
      },
      "outputs": [
        {
          "name": "stdout",
          "output_type": "stream",
          "text": [
            "Task Durations: [10  7  9  6  2  8  9  8 10  9]\n",
            "Task Priorities: [3 2 4 5 1 1 1 1 1 2]\n",
            "Robot Efficiencies: [0.95288619 1.41610767 0.53493914 0.57131496 1.16590313]\n",
            "Best Solution: [4 1 0 1 3 1 4 2 2 3]\n"
          ]
        }
      ],
      "source": [
        "print(f'Task Durations: {task_durations}')\n",
        "print(f'Task Priorities: {task_priorities}')\n",
        "print(f'Robot Efficiencies: {robot_efficiencies}')\n",
        "print(f'Best Solution: {best_solution}')"
      ]
    },
    {
      "cell_type": "code",
      "execution_count": null,
      "metadata": {
        "colab": {
          "base_uri": "https://localhost:8080/"
        },
        "id": "5RXcL1EMZpbE",
        "outputId": "43d877a3-a801-4e12-a712-d40b320109bc"
      },
      "outputs": [
        {
          "name": "stdout",
          "output_type": "stream",
          "text": [
            "0 0 P3 0h\n",
            "1 0 P2 0h\n",
            "2 0 P4 9h\n",
            "3 0 P5 0h\n",
            "4 0 P1 0h\n",
            "5 0 P1 0h\n",
            "6 0 P1 0h\n",
            "7 0 P1 0h\n",
            "8 0 P1 0h\n",
            "9 0 P2 0h\n",
            "0 1 P3 0h\n",
            "1 1 P2 7h\n",
            "2 1 P4 0h\n",
            "3 1 P5 6h\n",
            "4 1 P1 0h\n",
            "5 1 P1 8h\n",
            "6 1 P1 0h\n",
            "7 1 P1 0h\n",
            "8 1 P1 0h\n",
            "9 1 P2 0h\n",
            "0 2 P3 0h\n",
            "1 2 P2 0h\n",
            "2 2 P4 0h\n",
            "3 2 P5 0h\n",
            "4 2 P1 0h\n",
            "5 2 P1 0h\n",
            "6 2 P1 0h\n",
            "7 2 P1 8h\n",
            "8 2 P1 10h\n",
            "9 2 P2 0h\n",
            "0 3 P3 0h\n",
            "1 3 P2 0h\n",
            "2 3 P4 0h\n",
            "3 3 P5 0h\n",
            "4 3 P1 2h\n",
            "5 3 P1 0h\n",
            "6 3 P1 0h\n",
            "7 3 P1 0h\n",
            "8 3 P1 0h\n",
            "9 3 P2 9h\n",
            "0 4 P3 10h\n",
            "1 4 P2 0h\n",
            "2 4 P4 0h\n",
            "3 4 P5 0h\n",
            "4 4 P1 0h\n",
            "5 4 P1 0h\n",
            "6 4 P1 9h\n",
            "7 4 P1 0h\n",
            "8 4 P1 0h\n",
            "9 4 P2 0h\n"
          ]
        }
      ],
      "source": [
        "for (i, j), z in np.ndenumerate(grid):\n",
        "      t = task_priorities[j]\n",
        "      print(j, i, f'P{t} {z}h')"
      ]
    },
    {
      "cell_type": "code",
      "execution_count": null,
      "metadata": {
        "colab": {
          "base_uri": "https://localhost:8080/"
        },
        "id": "RR96GnoSaBXD",
        "outputId": "b4ede140-9f7a-40a1-f295-0afbb38da5cd"
      },
      "outputs": [
        {
          "name": "stdout",
          "output_type": "stream",
          "text": [
            "Task: 1 Robot: 5\n",
            "Task: 2 Robot: 2\n",
            "Task: 3 Robot: 1\n",
            "Task: 4 Robot: 2\n",
            "Task: 5 Robot: 4\n",
            "Task: 6 Robot: 2\n",
            "Task: 7 Robot: 5\n",
            "Task: 8 Robot: 3\n",
            "Task: 9 Robot: 3\n",
            "Task: 10 Robot: 4\n"
          ]
        }
      ],
      "source": [
        "for task, robot in enumerate(best_solution):\n",
        "  print(f'Task: {task+1} Robot: {robot+1}')"
      ]
    }
  ],
  "metadata": {
    "colab": {
      "provenance": [],
      "collapsed_sections": [
        "OiElTNyKOqTX",
        "FPtIiBJ0ig8u"
      ]
    },
    "kernelspec": {
      "display_name": "Python 3",
      "name": "python3"
    },
    "language_info": {
      "name": "python"
    }
  },
  "nbformat": 4,
  "nbformat_minor": 0
}